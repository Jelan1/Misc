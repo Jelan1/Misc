{
 "cells": [
  {
   "cell_type": "code",
   "execution_count": 5,
   "id": "b93f8c36",
   "metadata": {
    "ExecuteTime": {
     "end_time": "2022-05-11T17:59:46.701999Z",
     "start_time": "2022-05-11T17:59:46.589595Z"
    }
   },
   "outputs": [],
   "source": [
    "import pandas as pd\n",
    "import numpy as np\n",
    "import datetime\n",
    "import vsm\n",
    "import itertools\n",
    "import statsmodels.tsa.stattools as smts\n",
    "import statsmodels\n",
    "import statsmodels.regression.linear_model\n",
    "import os\n",
    "VSM = pd.read_csv('MarketVSM_prototype',index_col=0)\n"
   ]
  },
  {
   "cell_type": "markdown",
   "id": "509bc9a4",
   "metadata": {},
   "source": [
    "#### Ignore this, just set up code that I'm too lazy to fix in chants.py"
   ]
  },
  {
   "cell_type": "code",
   "execution_count": 2,
   "id": "1e08a543",
   "metadata": {
    "ExecuteTime": {
     "end_time": "2022-05-11T17:59:21.973735Z",
     "start_time": "2022-05-11T17:59:21.949585Z"
    }
   },
   "outputs": [],
   "source": [
    "def symbol_path(symbol,base_dir = '../data'):\n",
    "    return os.path.join(base_dir,f'{str(symbol)}.csv')\n",
    "\n",
    "def get_data(symbols,dates): #dates expects datetime object not str\n",
    "    df1 = pd.DataFrame(index=dates)\n",
    "    #if 'SPY' not in symbols:\n",
    "        #symbols.insert(0,'SPY') # why the zero?\n",
    "    for symbol in symbols:\n",
    "        temp = pd.read_csv(symbol_path(symbol),index_col='Date',parse_dates=True,usecols=['Date','Adj Close'],na_values='nan')\n",
    "        temp = temp.rename(columns={'Adj Close':symbol})\n",
    "        df1 = df1.join(temp)\n",
    "    return df1"
   ]
  },
  {
   "cell_type": "markdown",
   "id": "ab53bffd",
   "metadata": {},
   "source": [
    "### Co-integration\n",
    "I took this function from https://www.programcreek.com/python/example/122726/statsmodels.tsa.stattools.coint\n",
    "\n",
    "You Pass it a DataFrame of stocks with values and your sig level. Not sure what intercept is. I'm using daily returns from the og stock dataset. It returns any co-integrated pair along with the p value."
   ]
  },
  {
   "cell_type": "code",
   "execution_count": 8,
   "id": "38e57225",
   "metadata": {
    "ExecuteTime": {
     "end_time": "2022-05-11T17:59:56.052562Z",
     "start_time": "2022-05-11T17:59:56.028332Z"
    }
   },
   "outputs": [],
   "source": [
    "def coint(df, intercept = True, sig_level = 0.01):\n",
    "    \"\"\"\n",
    "    Find pairs (of 2 time series) that passes the cointegration test.\n",
    "\n",
    "    Parameters\n",
    "    ----------\n",
    "    df: pandas dataframe\n",
    "        each column is the time series of a certain stock\n",
    "    \n",
    "    intercept: boolean\n",
    "        if True, OLS and ADF test are done manually\n",
    "        if False, the coint() function from statsmodels.tsa.stattools, which \n",
    "        does not include intercept term while doing OLS regression, is used.\n",
    "    \n",
    "    sig_level: if p_value of cointegration test is below this level, then we\n",
    "        can reject the NULL hypothesis, which says that the two series are not\n",
    "        cointegrated\n",
    "    \n",
    "    Return\n",
    "    ------\n",
    "    A list of tuples of the form (name of stock 1, name of stock 2, p_value of\n",
    "    cointegration test).\n",
    "    \n",
    "    \"\"\"\n",
    "    cointegrated_pairs = []\n",
    "    \n",
    "    stock_names = df.columns.values.tolist()\n",
    "    N = len(stock_names)\n",
    "    \n",
    "    stock_pairs = list(itertools.combinations(stock_names, 2))\n",
    "    \n",
    "    for pair in stock_pairs:\n",
    "        stock_1, stock_2 = pair\n",
    "\n",
    "        p_value = 0\n",
    "\n",
    "        if not intercept:\n",
    "            p_value = smts.coint(df[stock_1].values.astype(float), df[stock_2].values.astype(float), trend='c')[1]\n",
    "        else:\n",
    "            Y = df[stock_1].values.astype(float)\n",
    "            X = df[stock_2].values.astype(float)\n",
    "            X = statsmodels.tools.tools.add_constant(X)\n",
    "\n",
    "            model = statsmodels.regression.linear_model.OLS(Y, X)\n",
    "            results = model.fit()\n",
    "            intercept, slope = results.params\n",
    "\n",
    "            p_value = smts.adfuller(results.resid)[1]\n",
    "\n",
    "        if p_value < sig_level and slope > 0:\n",
    "            cointegrated_pairs.append(tuple([stock_1, stock_2, p_value]))\n",
    "\n",
    "    return cointegrated_pairs "
   ]
  },
  {
   "cell_type": "markdown",
   "id": "3b3ab734",
   "metadata": {},
   "source": [
    "####  Test with generic stocks"
   ]
  },
  {
   "cell_type": "code",
   "execution_count": 6,
   "id": "2e0207f5",
   "metadata": {
    "ExecuteTime": {
     "end_time": "2022-05-11T17:59:51.139562Z",
     "start_time": "2022-05-11T17:59:50.699378Z"
    }
   },
   "outputs": [
    {
     "data": {
      "text/html": [
       "<div>\n",
       "<style scoped>\n",
       "    .dataframe tbody tr th:only-of-type {\n",
       "        vertical-align: middle;\n",
       "    }\n",
       "\n",
       "    .dataframe tbody tr th {\n",
       "        vertical-align: top;\n",
       "    }\n",
       "\n",
       "    .dataframe thead th {\n",
       "        text-align: right;\n",
       "    }\n",
       "</style>\n",
       "<table border=\"1\" class=\"dataframe\">\n",
       "  <thead>\n",
       "    <tr style=\"text-align: right;\">\n",
       "      <th></th>\n",
       "      <th>GE</th>\n",
       "      <th>SPY</th>\n",
       "      <th>AAPL</th>\n",
       "      <th>GOOG</th>\n",
       "      <th>INTC</th>\n",
       "      <th>UPS</th>\n",
       "      <th>ADP</th>\n",
       "      <th>JNJ</th>\n",
       "      <th>KO</th>\n",
       "      <th>PG</th>\n",
       "      <th>LLY</th>\n",
       "      <th>NKE</th>\n",
       "      <th>V</th>\n",
       "      <th>PEP</th>\n",
       "      <th>AA</th>\n",
       "      <th>MSFT</th>\n",
       "      <th>AMZN</th>\n",
       "      <th>CVX</th>\n",
       "    </tr>\n",
       "  </thead>\n",
       "  <tbody>\n",
       "    <tr>\n",
       "      <th>2011-01-10</th>\n",
       "      <td>17.58</td>\n",
       "      <td>123.19</td>\n",
       "      <td>340.99</td>\n",
       "      <td>614.21</td>\n",
       "      <td>19.51</td>\n",
       "      <td>68.51</td>\n",
       "      <td>46.06</td>\n",
       "      <td>58.35</td>\n",
       "      <td>30.22</td>\n",
       "      <td>60.80</td>\n",
       "      <td>31.53</td>\n",
       "      <td>82.10</td>\n",
       "      <td>70.85</td>\n",
       "      <td>62.55</td>\n",
       "      <td>16.19</td>\n",
       "      <td>26.95</td>\n",
       "      <td>184.68</td>\n",
       "      <td>85.52</td>\n",
       "    </tr>\n",
       "    <tr>\n",
       "      <th>2011-01-11</th>\n",
       "      <td>17.69</td>\n",
       "      <td>123.63</td>\n",
       "      <td>340.18</td>\n",
       "      <td>616.01</td>\n",
       "      <td>19.85</td>\n",
       "      <td>68.14</td>\n",
       "      <td>46.27</td>\n",
       "      <td>58.45</td>\n",
       "      <td>30.04</td>\n",
       "      <td>60.50</td>\n",
       "      <td>31.92</td>\n",
       "      <td>81.95</td>\n",
       "      <td>70.92</td>\n",
       "      <td>62.82</td>\n",
       "      <td>16.03</td>\n",
       "      <td>26.85</td>\n",
       "      <td>184.34</td>\n",
       "      <td>86.86</td>\n",
       "    </tr>\n",
       "    <tr>\n",
       "      <th>2011-01-12</th>\n",
       "      <td>17.73</td>\n",
       "      <td>124.74</td>\n",
       "      <td>342.95</td>\n",
       "      <td>616.87</td>\n",
       "      <td>20.09</td>\n",
       "      <td>68.33</td>\n",
       "      <td>46.87</td>\n",
       "      <td>58.67</td>\n",
       "      <td>30.21</td>\n",
       "      <td>61.37</td>\n",
       "      <td>32.03</td>\n",
       "      <td>81.67</td>\n",
       "      <td>71.64</td>\n",
       "      <td>63.19</td>\n",
       "      <td>15.95</td>\n",
       "      <td>27.27</td>\n",
       "      <td>184.08</td>\n",
       "      <td>87.45</td>\n",
       "    </tr>\n",
       "    <tr>\n",
       "      <th>2011-01-13</th>\n",
       "      <td>17.66</td>\n",
       "      <td>124.54</td>\n",
       "      <td>344.20</td>\n",
       "      <td>616.69</td>\n",
       "      <td>20.08</td>\n",
       "      <td>68.61</td>\n",
       "      <td>46.42</td>\n",
       "      <td>59.05</td>\n",
       "      <td>30.38</td>\n",
       "      <td>61.86</td>\n",
       "      <td>31.91</td>\n",
       "      <td>80.53</td>\n",
       "      <td>70.19</td>\n",
       "      <td>63.37</td>\n",
       "      <td>15.46</td>\n",
       "      <td>26.92</td>\n",
       "      <td>185.53</td>\n",
       "      <td>87.19</td>\n",
       "    </tr>\n",
       "    <tr>\n",
       "      <th>2011-01-14</th>\n",
       "      <td>17.87</td>\n",
       "      <td>125.44</td>\n",
       "      <td>346.99</td>\n",
       "      <td>624.18</td>\n",
       "      <td>19.88</td>\n",
       "      <td>68.83</td>\n",
       "      <td>46.65</td>\n",
       "      <td>58.71</td>\n",
       "      <td>30.25</td>\n",
       "      <td>61.90</td>\n",
       "      <td>31.92</td>\n",
       "      <td>82.00</td>\n",
       "      <td>70.17</td>\n",
       "      <td>63.24</td>\n",
       "      <td>15.68</td>\n",
       "      <td>27.03</td>\n",
       "      <td>188.75</td>\n",
       "      <td>87.81</td>\n",
       "    </tr>\n",
       "    <tr>\n",
       "      <th>...</th>\n",
       "      <td>...</td>\n",
       "      <td>...</td>\n",
       "      <td>...</td>\n",
       "      <td>...</td>\n",
       "      <td>...</td>\n",
       "      <td>...</td>\n",
       "      <td>...</td>\n",
       "      <td>...</td>\n",
       "      <td>...</td>\n",
       "      <td>...</td>\n",
       "      <td>...</td>\n",
       "      <td>...</td>\n",
       "      <td>...</td>\n",
       "      <td>...</td>\n",
       "      <td>...</td>\n",
       "      <td>...</td>\n",
       "      <td>...</td>\n",
       "      <td>...</td>\n",
       "    </tr>\n",
       "    <tr>\n",
       "      <th>2011-12-22</th>\n",
       "      <td>17.74</td>\n",
       "      <td>124.08</td>\n",
       "      <td>396.85</td>\n",
       "      <td>629.70</td>\n",
       "      <td>23.45</td>\n",
       "      <td>71.39</td>\n",
       "      <td>53.03</td>\n",
       "      <td>63.41</td>\n",
       "      <td>34.11</td>\n",
       "      <td>64.55</td>\n",
       "      <td>40.01</td>\n",
       "      <td>93.85</td>\n",
       "      <td>99.99</td>\n",
       "      <td>64.51</td>\n",
       "      <td>8.82</td>\n",
       "      <td>25.31</td>\n",
       "      <td>179.03</td>\n",
       "      <td>103.73</td>\n",
       "    </tr>\n",
       "    <tr>\n",
       "      <th>2011-12-23</th>\n",
       "      <td>17.92</td>\n",
       "      <td>125.19</td>\n",
       "      <td>401.61</td>\n",
       "      <td>633.14</td>\n",
       "      <td>23.82</td>\n",
       "      <td>71.85</td>\n",
       "      <td>53.52</td>\n",
       "      <td>64.19</td>\n",
       "      <td>34.48</td>\n",
       "      <td>65.02</td>\n",
       "      <td>40.18</td>\n",
       "      <td>95.91</td>\n",
       "      <td>101.92</td>\n",
       "      <td>65.03</td>\n",
       "      <td>8.77</td>\n",
       "      <td>25.52</td>\n",
       "      <td>177.28</td>\n",
       "      <td>104.89</td>\n",
       "    </tr>\n",
       "    <tr>\n",
       "      <th>2011-12-27</th>\n",
       "      <td>17.70</td>\n",
       "      <td>125.29</td>\n",
       "      <td>404.79</td>\n",
       "      <td>640.25</td>\n",
       "      <td>23.98</td>\n",
       "      <td>71.87</td>\n",
       "      <td>53.63</td>\n",
       "      <td>64.23</td>\n",
       "      <td>34.45</td>\n",
       "      <td>65.14</td>\n",
       "      <td>40.29</td>\n",
       "      <td>96.77</td>\n",
       "      <td>101.35</td>\n",
       "      <td>64.84</td>\n",
       "      <td>8.70</td>\n",
       "      <td>25.53</td>\n",
       "      <td>176.27</td>\n",
       "      <td>105.36</td>\n",
       "    </tr>\n",
       "    <tr>\n",
       "      <th>2011-12-28</th>\n",
       "      <td>17.52</td>\n",
       "      <td>123.64</td>\n",
       "      <td>400.92</td>\n",
       "      <td>639.70</td>\n",
       "      <td>23.66</td>\n",
       "      <td>71.12</td>\n",
       "      <td>53.00</td>\n",
       "      <td>63.67</td>\n",
       "      <td>34.27</td>\n",
       "      <td>64.90</td>\n",
       "      <td>39.85</td>\n",
       "      <td>95.44</td>\n",
       "      <td>100.17</td>\n",
       "      <td>64.39</td>\n",
       "      <td>8.44</td>\n",
       "      <td>25.32</td>\n",
       "      <td>173.89</td>\n",
       "      <td>103.39</td>\n",
       "    </tr>\n",
       "    <tr>\n",
       "      <th>2011-12-29</th>\n",
       "      <td>17.76</td>\n",
       "      <td>124.92</td>\n",
       "      <td>403.39</td>\n",
       "      <td>642.40</td>\n",
       "      <td>23.97</td>\n",
       "      <td>71.91</td>\n",
       "      <td>53.54</td>\n",
       "      <td>64.09</td>\n",
       "      <td>34.59</td>\n",
       "      <td>65.32</td>\n",
       "      <td>40.05</td>\n",
       "      <td>96.46</td>\n",
       "      <td>102.58</td>\n",
       "      <td>65.00</td>\n",
       "      <td>8.55</td>\n",
       "      <td>25.51</td>\n",
       "      <td>173.86</td>\n",
       "      <td>104.86</td>\n",
       "    </tr>\n",
       "  </tbody>\n",
       "</table>\n",
       "<p>246 rows × 18 columns</p>\n",
       "</div>"
      ],
      "text/plain": [
       "               GE     SPY    AAPL    GOOG   INTC    UPS    ADP    JNJ     KO  \\\n",
       "2011-01-10  17.58  123.19  340.99  614.21  19.51  68.51  46.06  58.35  30.22   \n",
       "2011-01-11  17.69  123.63  340.18  616.01  19.85  68.14  46.27  58.45  30.04   \n",
       "2011-01-12  17.73  124.74  342.95  616.87  20.09  68.33  46.87  58.67  30.21   \n",
       "2011-01-13  17.66  124.54  344.20  616.69  20.08  68.61  46.42  59.05  30.38   \n",
       "2011-01-14  17.87  125.44  346.99  624.18  19.88  68.83  46.65  58.71  30.25   \n",
       "...           ...     ...     ...     ...    ...    ...    ...    ...    ...   \n",
       "2011-12-22  17.74  124.08  396.85  629.70  23.45  71.39  53.03  63.41  34.11   \n",
       "2011-12-23  17.92  125.19  401.61  633.14  23.82  71.85  53.52  64.19  34.48   \n",
       "2011-12-27  17.70  125.29  404.79  640.25  23.98  71.87  53.63  64.23  34.45   \n",
       "2011-12-28  17.52  123.64  400.92  639.70  23.66  71.12  53.00  63.67  34.27   \n",
       "2011-12-29  17.76  124.92  403.39  642.40  23.97  71.91  53.54  64.09  34.59   \n",
       "\n",
       "               PG    LLY    NKE       V    PEP     AA   MSFT    AMZN     CVX  \n",
       "2011-01-10  60.80  31.53  82.10   70.85  62.55  16.19  26.95  184.68   85.52  \n",
       "2011-01-11  60.50  31.92  81.95   70.92  62.82  16.03  26.85  184.34   86.86  \n",
       "2011-01-12  61.37  32.03  81.67   71.64  63.19  15.95  27.27  184.08   87.45  \n",
       "2011-01-13  61.86  31.91  80.53   70.19  63.37  15.46  26.92  185.53   87.19  \n",
       "2011-01-14  61.90  31.92  82.00   70.17  63.24  15.68  27.03  188.75   87.81  \n",
       "...           ...    ...    ...     ...    ...    ...    ...     ...     ...  \n",
       "2011-12-22  64.55  40.01  93.85   99.99  64.51   8.82  25.31  179.03  103.73  \n",
       "2011-12-23  65.02  40.18  95.91  101.92  65.03   8.77  25.52  177.28  104.89  \n",
       "2011-12-27  65.14  40.29  96.77  101.35  64.84   8.70  25.53  176.27  105.36  \n",
       "2011-12-28  64.90  39.85  95.44  100.17  64.39   8.44  25.32  173.89  103.39  \n",
       "2011-12-29  65.32  40.05  96.46  102.58  65.00   8.55  25.51  173.86  104.86  \n",
       "\n",
       "[246 rows x 18 columns]"
      ]
     },
     "execution_count": 6,
     "metadata": {},
     "output_type": "execute_result"
    }
   ],
   "source": [
    "start = '2011-01-10'\n",
    "end = '2011-12-29'\n",
    "dates = pd.date_range(start,end)\n",
    "spy = get_data(['SPY'],dates)\n",
    "spy.index\n",
    "dates1 = [date for date in dates if date in spy.index]\n",
    "df = get_data(['GE','SPY','AAPL','GOOG','INTC','UPS','ADP','JNJ','KO','PG','LLY','NKE','V','PEP','AA','MSFT','AMZN','CVX'],dates1)\n",
    "df.dropna(axis=0,inplace=True)\n",
    "df"
   ]
  },
  {
   "cell_type": "code",
   "execution_count": 9,
   "id": "3b3d7cb3",
   "metadata": {
    "ExecuteTime": {
     "end_time": "2022-05-11T18:00:00.750089Z",
     "start_time": "2022-05-11T17:59:58.658363Z"
    }
   },
   "outputs": [
    {
     "data": {
      "text/plain": [
       "[]"
      ]
     },
     "execution_count": 9,
     "metadata": {},
     "output_type": "execute_result"
    }
   ],
   "source": [
    "coint(df)"
   ]
  },
  {
   "cell_type": "markdown",
   "id": "aef217b8",
   "metadata": {},
   "source": [
    "#### Using nearest neighbors list of stocks in Market VSM"
   ]
  },
  {
   "cell_type": "code",
   "execution_count": 10,
   "id": "419aab24",
   "metadata": {
    "ExecuteTime": {
     "end_time": "2022-05-11T18:00:02.121637Z",
     "start_time": "2022-05-11T18:00:02.033090Z"
    },
    "scrolled": false
   },
   "outputs": [
    {
     "data": {
      "text/plain": [
       "GLW     0.000000\n",
       "AMAT    0.062083\n",
       "APH     0.062353\n",
       "MOLX    0.077212\n",
       "DD      0.090262\n",
       "dtype: float64"
      ]
     },
     "execution_count": 10,
     "metadata": {},
     "output_type": "execute_result"
    }
   ],
   "source": [
    "vsm.neighbors('GLW',VSM).head()"
   ]
  },
  {
   "cell_type": "code",
   "execution_count": 11,
   "id": "e67849bb",
   "metadata": {
    "ExecuteTime": {
     "end_time": "2022-05-11T18:00:03.769852Z",
     "start_time": "2022-05-11T18:00:03.481744Z"
    },
    "scrolled": false
   },
   "outputs": [
    {
     "data": {
      "text/plain": [
       "[('GLW', 'AMAT', 0.009758370997646973), ('GLW', 'APH', 0.0003620142437016059)]"
      ]
     },
     "execution_count": 11,
     "metadata": {},
     "output_type": "execute_result"
    }
   ],
   "source": [
    "df = get_data(['GLW','AMAT','APH','MOLX','DD'],dates1)\n",
    "df.dropna(axis=0,inplace=True)\n",
    "coint(df)"
   ]
  },
  {
   "cell_type": "markdown",
   "id": "f89efb50",
   "metadata": {},
   "source": [
    "#### passing in top 30"
   ]
  },
  {
   "cell_type": "code",
   "execution_count": 12,
   "id": "7bbd4484",
   "metadata": {
    "ExecuteTime": {
     "end_time": "2022-05-11T18:00:05.837982Z",
     "start_time": "2022-05-11T18:00:05.197775Z"
    }
   },
   "outputs": [
    {
     "data": {
      "text/html": [
       "<div>\n",
       "<style scoped>\n",
       "    .dataframe tbody tr th:only-of-type {\n",
       "        vertical-align: middle;\n",
       "    }\n",
       "\n",
       "    .dataframe tbody tr th {\n",
       "        vertical-align: top;\n",
       "    }\n",
       "\n",
       "    .dataframe thead th {\n",
       "        text-align: right;\n",
       "    }\n",
       "</style>\n",
       "<table border=\"1\" class=\"dataframe\">\n",
       "  <thead>\n",
       "    <tr style=\"text-align: right;\">\n",
       "      <th></th>\n",
       "      <th>GLW</th>\n",
       "      <th>AMAT</th>\n",
       "      <th>APH</th>\n",
       "      <th>MOLX</th>\n",
       "      <th>DD</th>\n",
       "      <th>DOV</th>\n",
       "      <th>JEC</th>\n",
       "      <th>XLNX</th>\n",
       "      <th>NUE</th>\n",
       "      <th>DE</th>\n",
       "      <th>...</th>\n",
       "      <th>KLAC</th>\n",
       "      <th>CSX</th>\n",
       "      <th>TEL</th>\n",
       "      <th>HON</th>\n",
       "      <th>ROP</th>\n",
       "      <th>QLGC</th>\n",
       "      <th>PKI</th>\n",
       "      <th>PPG</th>\n",
       "      <th>GE</th>\n",
       "      <th>CSCO</th>\n",
       "    </tr>\n",
       "  </thead>\n",
       "  <tbody>\n",
       "    <tr>\n",
       "      <th>2011-01-10</th>\n",
       "      <td>18.91</td>\n",
       "      <td>13.14</td>\n",
       "      <td>51.56</td>\n",
       "      <td>22.83</td>\n",
       "      <td>46.29</td>\n",
       "      <td>55.35</td>\n",
       "      <td>45.88</td>\n",
       "      <td>29.01</td>\n",
       "      <td>41.39</td>\n",
       "      <td>81.94</td>\n",
       "      <td>...</td>\n",
       "      <td>36.77</td>\n",
       "      <td>21.81</td>\n",
       "      <td>34.51</td>\n",
       "      <td>51.54</td>\n",
       "      <td>74.43</td>\n",
       "      <td>17.04</td>\n",
       "      <td>25.27</td>\n",
       "      <td>79.06</td>\n",
       "      <td>17.58</td>\n",
       "      <td>20.32</td>\n",
       "    </tr>\n",
       "    <tr>\n",
       "      <th>2011-01-11</th>\n",
       "      <td>18.89</td>\n",
       "      <td>13.44</td>\n",
       "      <td>52.04</td>\n",
       "      <td>23.02</td>\n",
       "      <td>46.23</td>\n",
       "      <td>55.72</td>\n",
       "      <td>47.10</td>\n",
       "      <td>29.29</td>\n",
       "      <td>42.30</td>\n",
       "      <td>82.99</td>\n",
       "      <td>...</td>\n",
       "      <td>36.69</td>\n",
       "      <td>21.82</td>\n",
       "      <td>34.50</td>\n",
       "      <td>51.64</td>\n",
       "      <td>74.93</td>\n",
       "      <td>16.96</td>\n",
       "      <td>25.55</td>\n",
       "      <td>78.54</td>\n",
       "      <td>17.69</td>\n",
       "      <td>20.40</td>\n",
       "    </tr>\n",
       "    <tr>\n",
       "      <th>2011-01-12</th>\n",
       "      <td>19.32</td>\n",
       "      <td>13.61</td>\n",
       "      <td>52.47</td>\n",
       "      <td>23.56</td>\n",
       "      <td>46.35</td>\n",
       "      <td>56.73</td>\n",
       "      <td>48.68</td>\n",
       "      <td>29.76</td>\n",
       "      <td>42.31</td>\n",
       "      <td>84.72</td>\n",
       "      <td>...</td>\n",
       "      <td>37.10</td>\n",
       "      <td>22.04</td>\n",
       "      <td>34.83</td>\n",
       "      <td>52.32</td>\n",
       "      <td>74.75</td>\n",
       "      <td>17.14</td>\n",
       "      <td>25.48</td>\n",
       "      <td>79.48</td>\n",
       "      <td>17.73</td>\n",
       "      <td>20.64</td>\n",
       "    </tr>\n",
       "    <tr>\n",
       "      <th>2011-01-13</th>\n",
       "      <td>19.24</td>\n",
       "      <td>13.59</td>\n",
       "      <td>52.25</td>\n",
       "      <td>23.46</td>\n",
       "      <td>46.63</td>\n",
       "      <td>56.91</td>\n",
       "      <td>48.75</td>\n",
       "      <td>29.66</td>\n",
       "      <td>42.30</td>\n",
       "      <td>86.68</td>\n",
       "      <td>...</td>\n",
       "      <td>37.82</td>\n",
       "      <td>22.22</td>\n",
       "      <td>34.96</td>\n",
       "      <td>52.20</td>\n",
       "      <td>74.61</td>\n",
       "      <td>17.39</td>\n",
       "      <td>25.29</td>\n",
       "      <td>79.03</td>\n",
       "      <td>17.66</td>\n",
       "      <td>20.60</td>\n",
       "    </tr>\n",
       "    <tr>\n",
       "      <th>2011-01-14</th>\n",
       "      <td>19.21</td>\n",
       "      <td>14.62</td>\n",
       "      <td>51.91</td>\n",
       "      <td>23.61</td>\n",
       "      <td>47.01</td>\n",
       "      <td>57.42</td>\n",
       "      <td>51.02</td>\n",
       "      <td>30.43</td>\n",
       "      <td>41.81</td>\n",
       "      <td>86.73</td>\n",
       "      <td>...</td>\n",
       "      <td>40.06</td>\n",
       "      <td>22.20</td>\n",
       "      <td>35.20</td>\n",
       "      <td>52.61</td>\n",
       "      <td>74.72</td>\n",
       "      <td>18.03</td>\n",
       "      <td>25.03</td>\n",
       "      <td>79.60</td>\n",
       "      <td>17.87</td>\n",
       "      <td>20.73</td>\n",
       "    </tr>\n",
       "    <tr>\n",
       "      <th>...</th>\n",
       "      <td>...</td>\n",
       "      <td>...</td>\n",
       "      <td>...</td>\n",
       "      <td>...</td>\n",
       "      <td>...</td>\n",
       "      <td>...</td>\n",
       "      <td>...</td>\n",
       "      <td>...</td>\n",
       "      <td>...</td>\n",
       "      <td>...</td>\n",
       "      <td>...</td>\n",
       "      <td>...</td>\n",
       "      <td>...</td>\n",
       "      <td>...</td>\n",
       "      <td>...</td>\n",
       "      <td>...</td>\n",
       "      <td>...</td>\n",
       "      <td>...</td>\n",
       "      <td>...</td>\n",
       "      <td>...</td>\n",
       "      <td>...</td>\n",
       "    </tr>\n",
       "    <tr>\n",
       "      <th>2011-12-22</th>\n",
       "      <td>12.80</td>\n",
       "      <td>10.30</td>\n",
       "      <td>44.76</td>\n",
       "      <td>23.22</td>\n",
       "      <td>44.45</td>\n",
       "      <td>56.66</td>\n",
       "      <td>40.69</td>\n",
       "      <td>31.70</td>\n",
       "      <td>39.02</td>\n",
       "      <td>76.46</td>\n",
       "      <td>...</td>\n",
       "      <td>47.11</td>\n",
       "      <td>20.71</td>\n",
       "      <td>30.65</td>\n",
       "      <td>53.60</td>\n",
       "      <td>87.10</td>\n",
       "      <td>15.02</td>\n",
       "      <td>19.46</td>\n",
       "      <td>80.96</td>\n",
       "      <td>17.74</td>\n",
       "      <td>17.92</td>\n",
       "    </tr>\n",
       "    <tr>\n",
       "      <th>2011-12-23</th>\n",
       "      <td>13.14</td>\n",
       "      <td>10.58</td>\n",
       "      <td>45.45</td>\n",
       "      <td>23.65</td>\n",
       "      <td>45.04</td>\n",
       "      <td>57.79</td>\n",
       "      <td>40.89</td>\n",
       "      <td>31.76</td>\n",
       "      <td>39.35</td>\n",
       "      <td>77.37</td>\n",
       "      <td>...</td>\n",
       "      <td>47.47</td>\n",
       "      <td>20.95</td>\n",
       "      <td>30.75</td>\n",
       "      <td>53.93</td>\n",
       "      <td>87.81</td>\n",
       "      <td>15.19</td>\n",
       "      <td>19.65</td>\n",
       "      <td>82.09</td>\n",
       "      <td>17.92</td>\n",
       "      <td>18.25</td>\n",
       "    </tr>\n",
       "    <tr>\n",
       "      <th>2011-12-27</th>\n",
       "      <td>12.97</td>\n",
       "      <td>10.59</td>\n",
       "      <td>45.58</td>\n",
       "      <td>23.64</td>\n",
       "      <td>45.10</td>\n",
       "      <td>57.96</td>\n",
       "      <td>41.09</td>\n",
       "      <td>31.70</td>\n",
       "      <td>39.40</td>\n",
       "      <td>77.12</td>\n",
       "      <td>...</td>\n",
       "      <td>47.79</td>\n",
       "      <td>20.86</td>\n",
       "      <td>30.59</td>\n",
       "      <td>53.91</td>\n",
       "      <td>88.03</td>\n",
       "      <td>15.14</td>\n",
       "      <td>19.77</td>\n",
       "      <td>82.53</td>\n",
       "      <td>17.70</td>\n",
       "      <td>18.36</td>\n",
       "    </tr>\n",
       "    <tr>\n",
       "      <th>2011-12-28</th>\n",
       "      <td>12.70</td>\n",
       "      <td>10.39</td>\n",
       "      <td>44.98</td>\n",
       "      <td>23.32</td>\n",
       "      <td>44.35</td>\n",
       "      <td>56.68</td>\n",
       "      <td>40.14</td>\n",
       "      <td>31.39</td>\n",
       "      <td>38.84</td>\n",
       "      <td>76.03</td>\n",
       "      <td>...</td>\n",
       "      <td>47.33</td>\n",
       "      <td>20.48</td>\n",
       "      <td>29.96</td>\n",
       "      <td>52.95</td>\n",
       "      <td>86.10</td>\n",
       "      <td>14.79</td>\n",
       "      <td>19.38</td>\n",
       "      <td>81.38</td>\n",
       "      <td>17.52</td>\n",
       "      <td>17.95</td>\n",
       "    </tr>\n",
       "    <tr>\n",
       "      <th>2011-12-29</th>\n",
       "      <td>12.82</td>\n",
       "      <td>10.45</td>\n",
       "      <td>45.59</td>\n",
       "      <td>23.82</td>\n",
       "      <td>44.73</td>\n",
       "      <td>57.47</td>\n",
       "      <td>40.86</td>\n",
       "      <td>31.65</td>\n",
       "      <td>38.87</td>\n",
       "      <td>76.69</td>\n",
       "      <td>...</td>\n",
       "      <td>47.73</td>\n",
       "      <td>20.64</td>\n",
       "      <td>30.58</td>\n",
       "      <td>53.75</td>\n",
       "      <td>86.60</td>\n",
       "      <td>14.97</td>\n",
       "      <td>19.68</td>\n",
       "      <td>82.56</td>\n",
       "      <td>17.76</td>\n",
       "      <td>18.04</td>\n",
       "    </tr>\n",
       "  </tbody>\n",
       "</table>\n",
       "<p>246 rows × 30 columns</p>\n",
       "</div>"
      ],
      "text/plain": [
       "              GLW   AMAT    APH   MOLX     DD    DOV    JEC   XLNX    NUE  \\\n",
       "2011-01-10  18.91  13.14  51.56  22.83  46.29  55.35  45.88  29.01  41.39   \n",
       "2011-01-11  18.89  13.44  52.04  23.02  46.23  55.72  47.10  29.29  42.30   \n",
       "2011-01-12  19.32  13.61  52.47  23.56  46.35  56.73  48.68  29.76  42.31   \n",
       "2011-01-13  19.24  13.59  52.25  23.46  46.63  56.91  48.75  29.66  42.30   \n",
       "2011-01-14  19.21  14.62  51.91  23.61  47.01  57.42  51.02  30.43  41.81   \n",
       "...           ...    ...    ...    ...    ...    ...    ...    ...    ...   \n",
       "2011-12-22  12.80  10.30  44.76  23.22  44.45  56.66  40.69  31.70  39.02   \n",
       "2011-12-23  13.14  10.58  45.45  23.65  45.04  57.79  40.89  31.76  39.35   \n",
       "2011-12-27  12.97  10.59  45.58  23.64  45.10  57.96  41.09  31.70  39.40   \n",
       "2011-12-28  12.70  10.39  44.98  23.32  44.35  56.68  40.14  31.39  38.84   \n",
       "2011-12-29  12.82  10.45  45.59  23.82  44.73  57.47  40.86  31.65  38.87   \n",
       "\n",
       "               DE  ...   KLAC    CSX    TEL    HON    ROP   QLGC    PKI  \\\n",
       "2011-01-10  81.94  ...  36.77  21.81  34.51  51.54  74.43  17.04  25.27   \n",
       "2011-01-11  82.99  ...  36.69  21.82  34.50  51.64  74.93  16.96  25.55   \n",
       "2011-01-12  84.72  ...  37.10  22.04  34.83  52.32  74.75  17.14  25.48   \n",
       "2011-01-13  86.68  ...  37.82  22.22  34.96  52.20  74.61  17.39  25.29   \n",
       "2011-01-14  86.73  ...  40.06  22.20  35.20  52.61  74.72  18.03  25.03   \n",
       "...           ...  ...    ...    ...    ...    ...    ...    ...    ...   \n",
       "2011-12-22  76.46  ...  47.11  20.71  30.65  53.60  87.10  15.02  19.46   \n",
       "2011-12-23  77.37  ...  47.47  20.95  30.75  53.93  87.81  15.19  19.65   \n",
       "2011-12-27  77.12  ...  47.79  20.86  30.59  53.91  88.03  15.14  19.77   \n",
       "2011-12-28  76.03  ...  47.33  20.48  29.96  52.95  86.10  14.79  19.38   \n",
       "2011-12-29  76.69  ...  47.73  20.64  30.58  53.75  86.60  14.97  19.68   \n",
       "\n",
       "              PPG     GE   CSCO  \n",
       "2011-01-10  79.06  17.58  20.32  \n",
       "2011-01-11  78.54  17.69  20.40  \n",
       "2011-01-12  79.48  17.73  20.64  \n",
       "2011-01-13  79.03  17.66  20.60  \n",
       "2011-01-14  79.60  17.87  20.73  \n",
       "...           ...    ...    ...  \n",
       "2011-12-22  80.96  17.74  17.92  \n",
       "2011-12-23  82.09  17.92  18.25  \n",
       "2011-12-27  82.53  17.70  18.36  \n",
       "2011-12-28  81.38  17.52  17.95  \n",
       "2011-12-29  82.56  17.76  18.04  \n",
       "\n",
       "[246 rows x 30 columns]"
      ]
     },
     "execution_count": 12,
     "metadata": {},
     "output_type": "execute_result"
    }
   ],
   "source": [
    "symbols = [s for s in vsm.neighbors('GLW',VSM).head(30).index]\n",
    "df = get_data(symbols,dates1)\n",
    "df.dropna(axis=0,inplace=True)\n",
    "df"
   ]
  },
  {
   "cell_type": "code",
   "execution_count": 13,
   "id": "8c3fe846",
   "metadata": {
    "ExecuteTime": {
     "end_time": "2022-05-11T18:00:17.282185Z",
     "start_time": "2022-05-11T18:00:07.658215Z"
    }
   },
   "outputs": [
    {
     "name": "stdout",
     "output_type": "stream",
     "text": [
      "32\n"
     ]
    },
    {
     "data": {
      "text/plain": [
       "[('GLW', 'AMAT', 0.009758370997646973),\n",
       " ('GLW', 'APH', 0.0003620142437016059),\n",
       " ('GLW', 'SEE', 0.006024194859819413),\n",
       " ('APH', 'WY', 0.0040639259419085446),\n",
       " ('APH', 'SEE', 0.004131083058298233),\n",
       " ('DOV', 'DDR', 0.006553593233321458),\n",
       " ('JEC', 'NUE', 0.0005413585623110746),\n",
       " ('JEC', 'QLGC', 0.0007012464697806422),\n",
       " ('XLNX', 'HON', 0.006219367028931237),\n",
       " ('DE', 'ADM', 0.008588611682326929),\n",
       " ('WY', 'SEE', 0.008989646761672156),\n",
       " ('NWSA', 'KIM', 0.0005904151066924958),\n",
       " ('NWSA', 'ADM', 0.0003037645621365504),\n",
       " ('NWSA', 'SWK', 0.0001442762396051067),\n",
       " ('NWSA', 'DDR', 0.0003966169157685978),\n",
       " ('NWSA', 'EMC', 0.000777948805104541),\n",
       " ('NWSA', 'KLAC', 0.00019314720199853822),\n",
       " ('NWSA', 'CSX', 0.0007286764785460366),\n",
       " ('NWSA', 'TEL', 0.0005127488416676114),\n",
       " ('NWSA', 'HON', 0.0001854441931350342),\n",
       " ('NWSA', 'ROP', 0.000210969757756384),\n",
       " ('NWSA', 'QLGC', 0.0002277812870203335),\n",
       " ('NWSA', 'PKI', 0.00022733255331372192),\n",
       " ('NWSA', 'PPG', 0.00032229148862319935),\n",
       " ('NWSA', 'GE', 0.0003111037329592251),\n",
       " ('NWSA', 'CSCO', 0.00020146310956225822),\n",
       " ('KIM', 'CSX', 0.0005633649704285576),\n",
       " ('KIM', 'PKI', 0.003978348307920416),\n",
       " ('ADM', 'QLGC', 0.0057574968413524035),\n",
       " ('SWK', 'QLGC', 0.006873024714430229),\n",
       " ('DDR', 'PKI', 0.008507171289538963),\n",
       " ('QLGC', 'GE', 0.0005156606034924478)]"
      ]
     },
     "execution_count": 13,
     "metadata": {},
     "output_type": "execute_result"
    }
   ],
   "source": [
    "print(len(coint(df)))\n",
    "coint(df)"
   ]
  },
  {
   "cell_type": "code",
   "execution_count": 15,
   "id": "22d17ad3",
   "metadata": {
    "ExecuteTime": {
     "end_time": "2022-05-11T18:00:48.249487Z",
     "start_time": "2022-05-11T18:00:48.160910Z"
    }
   },
   "outputs": [
    {
     "data": {
      "text/plain": [
       "MRK    0.000000\n",
       "EIX    0.009039\n",
       "DTE    0.010493\n",
       "POM    0.011517\n",
       "SRE    0.012237\n",
       "dtype: float64"
      ]
     },
     "execution_count": 15,
     "metadata": {},
     "output_type": "execute_result"
    }
   ],
   "source": [
    "vsm.neighbors('MRK',VSM).head()"
   ]
  },
  {
   "cell_type": "code",
   "execution_count": 14,
   "id": "71752572",
   "metadata": {
    "ExecuteTime": {
     "end_time": "2022-05-11T18:00:42.450394Z",
     "start_time": "2022-05-11T18:00:42.146184Z"
    }
   },
   "outputs": [
    {
     "data": {
      "text/plain": [
       "[('MRK', 'DTE', 0.007401716940714658),\n",
       " ('MRK', 'POM', 0.0015850781554905468),\n",
       " ('DTE', 'POM', 0.006926944313811)]"
      ]
     },
     "execution_count": 14,
     "metadata": {},
     "output_type": "execute_result"
    }
   ],
   "source": [
    "symbols = [s for s in vsm.neighbors('MRK',VSM).head().index]\n",
    "df = get_data(symbols,dates1)\n",
    "df.dropna(axis=0,inplace=True)\n",
    "coint(df)"
   ]
  },
  {
   "cell_type": "code",
   "execution_count": 283,
   "id": "76db2db8",
   "metadata": {
    "ExecuteTime": {
     "end_time": "2022-05-11T10:29:12.545727Z",
     "start_time": "2022-05-11T10:29:08.997069Z"
    }
   },
   "outputs": [],
   "source": [
    "symbols = [s for s in vsm.neighbors('MRK',VSM).head(30).index]\n",
    "df = get_data(symbols,dates1)\n",
    "df.dropna(axis=0,inplace=True)\n",
    "pairs2 = coint(df)"
   ]
  },
  {
   "cell_type": "code",
   "execution_count": 289,
   "id": "c25ff63f",
   "metadata": {
    "ExecuteTime": {
     "end_time": "2022-05-11T10:31:25.546739Z",
     "start_time": "2022-05-11T10:31:25.538728Z"
    },
    "scrolled": true
   },
   "outputs": [
    {
     "name": "stdout",
     "output_type": "stream",
     "text": [
      "44\n"
     ]
    },
    {
     "data": {
      "text/plain": [
       "[('MRK', 'DTE', 0.007401716940714658),\n",
       " ('MRK', 'POM', 0.0015850781554905468),\n",
       " ('MRK', 'NEE', 4.1466530344783144e-05),\n",
       " ('MRK', 'TEG', 0.00016733486172980827),\n",
       " ('MRK', 'MKC', 0.0014649207012819654),\n",
       " ('MRK', 'NU', 0.0004936831663291519),\n",
       " ('MRK', 'LLY', 0.009424086037347287),\n",
       " ('MRK', 'CAG', 0.0047849729025376195),\n",
       " ('MRK', 'PFE', 0.0006683179881389858),\n",
       " ('EIX', 'TEG', 0.004691013635902749),\n",
       " ('EIX', 'CAG', 0.008877081120226796),\n",
       " ('DTE', 'POM', 0.006926944313811),\n",
       " ('DTE', 'LLY', 0.001084984447389814),\n",
       " ('DTE', 'WEC', 0.004779782865029399),\n",
       " ('DTE', 'ABT', 0.00011396888486071057),\n",
       " ('POM', 'LLY', 0.00048480649019402324),\n",
       " ('POM', 'AEP', 0.002933880749426443),\n",
       " ('SRE', 'PFE', 0.006419903455090105),\n",
       " ('NEE', 'LLY', 0.008459939958271694),\n",
       " ('PNW', 'CMS', 0.008877933774417961),\n",
       " ('PNW', 'WEC', 0.004147832162018847),\n",
       " ('TEG', 'MKC', 0.002246962318352518),\n",
       " ('MKC', 'NU', 0.0063196067172117815),\n",
       " ('MKC', 'HRL', 0.00609124632922834),\n",
       " ('CMS', 'XEL', 3.3114662191054106e-06),\n",
       " ('NU', 'AEE', 0.007110368096610774),\n",
       " ('NU', 'LLY', 0.0013770512041203766),\n",
       " ('NU', 'HRL', 0.0009129675098424733),\n",
       " ('NU', 'CAG', 0.003548397593900629),\n",
       " ('NU', 'SCG', 0.006693448722119889),\n",
       " ('NU', 'T', 0.0030614952707772813),\n",
       " ('NU', 'AEP', 0.00666157502507584),\n",
       " ('NU', 'ABT', 0.0013880296064055734),\n",
       " ('NU', 'VZ', 0.0037381805441076945),\n",
       " ('NU', 'NI', 0.009016718351047219),\n",
       " ('NU', 'KR', 0.0003846151020871645),\n",
       " ('NU', 'BUD', 0.0029059097592396533),\n",
       " ('NU', 'PFE', 0.00010428496011421005),\n",
       " ('LLY', 'WEC', 0.0029642774283913324),\n",
       " ('LLY', 'ABT', 0.005058620854966894),\n",
       " ('WEC', 'XEL', 0.0037291870815154946),\n",
       " ('HRL', 'CAG', 0.00629543544006811),\n",
       " ('HRL', 'T', 0.007718326870124318),\n",
       " ('BUD', 'PFE', 0.001174388918682854)]"
      ]
     },
     "execution_count": 289,
     "metadata": {},
     "output_type": "execute_result"
    }
   ],
   "source": [
    "print(len(pairs2))\n",
    "pairs2"
   ]
  },
  {
   "cell_type": "markdown",
   "id": "77fb39b1",
   "metadata": {},
   "source": [
    "#### I just noticed it's not too hard to generate some cointegration hits by blind guessing, I must have gotten a bit lucky at the top."
   ]
  },
  {
   "cell_type": "code",
   "execution_count": 16,
   "id": "1cfed8c2",
   "metadata": {
    "ExecuteTime": {
     "end_time": "2022-05-11T18:01:24.736054Z",
     "start_time": "2022-05-11T18:01:24.199646Z"
    },
    "scrolled": true
   },
   "outputs": [
    {
     "data": {
      "text/plain": [
       "30"
      ]
     },
     "execution_count": 16,
     "metadata": {},
     "output_type": "execute_result"
    }
   ],
   "source": [
    "df = get_data(['GE','SPY','AAPL','GOOG','INTC','UPS','ADP','JNJ','KO','PG','LLY','NKE','V','PEP','AA','MSFT','AMZN','CVX','IBM','DIS','MA','XOM','COG','ADM','F','PFE','KFT','R','WMT','AMD'],dates1)\n",
    "df.dropna(axis=0,inplace=True) \n",
    "len(df.columns)"
   ]
  },
  {
   "cell_type": "code",
   "execution_count": 17,
   "id": "9100442a",
   "metadata": {
    "ExecuteTime": {
     "end_time": "2022-05-11T18:01:37.054839Z",
     "start_time": "2022-05-11T18:01:27.199427Z"
    }
   },
   "outputs": [
    {
     "name": "stdout",
     "output_type": "stream",
     "text": [
      "11\n"
     ]
    },
    {
     "data": {
      "text/plain": [
       "[('GE', 'DIS', 0.008523795606704734),\n",
       " ('GE', 'F', 0.005718385410774071),\n",
       " ('GE', 'AMD', 0.008249921508274912),\n",
       " ('SPY', 'DIS', 0.0018049552159462112),\n",
       " ('UPS', 'XOM', 0.0003114355557255568),\n",
       " ('ADP', 'PFE', 0.00453591903258921),\n",
       " ('LLY', 'KFT', 0.007888999691181998),\n",
       " ('NKE', 'IBM', 0.007925998420442091),\n",
       " ('V', 'MA', 0.0001922456143965962),\n",
       " ('CVX', 'R', 0.006800827717184146),\n",
       " ('F', 'AMD', 0.0025807727911095223)]"
      ]
     },
     "execution_count": 17,
     "metadata": {},
     "output_type": "execute_result"
    }
   ],
   "source": [
    "print(len(coint(df)))\n",
    "coint(df)"
   ]
  },
  {
   "cell_type": "markdown",
   "id": "b92a819b",
   "metadata": {},
   "source": [
    "Still, it seems neighbors generates a much better list of candidates. Once again, an equal sized list of candidate stocks, 30, from another neighbors function (Pfiezer)"
   ]
  },
  {
   "cell_type": "code",
   "execution_count": 18,
   "id": "959260ad",
   "metadata": {
    "ExecuteTime": {
     "end_time": "2022-05-11T18:01:49.988852Z",
     "start_time": "2022-05-11T18:01:40.385253Z"
    },
    "scrolled": false
   },
   "outputs": [
    {
     "name": "stdout",
     "output_type": "stream",
     "text": [
      "40\n"
     ]
    },
    {
     "data": {
      "text/plain": [
       "[('PFE', 'MRK', 0.0005598622406028954),\n",
       " ('TEG', 'CB', 0.006860330881502947),\n",
       " ('TEG', 'ECL', 0.00537614065853309),\n",
       " ('TEG', 'CVS', 0.0002855281664932001),\n",
       " ('GAS', 'DTE', 0.0045075952994357085),\n",
       " ('GAS', 'BF.B', 0.008288541031665063),\n",
       " ('TE', 'ADP', 0.0004433174056568914),\n",
       " ('TE', 'MRK', 0.00035094571424013564),\n",
       " ('TE', 'TSN', 0.0060171846185798645),\n",
       " ('TE', 'NEE', 0.008878337454922804),\n",
       " ('TE', 'NU', 0.0002532160006043876),\n",
       " ('TE', 'ECL', 0.006891014078171382),\n",
       " ('TE', 'SHW', 0.007951108988221092),\n",
       " ('TE', 'CVS', 0.0018877542634318737),\n",
       " ('CB', 'MRK', 0.0017747187137084534),\n",
       " ('CB', 'BF.B', 0.003940138704597956),\n",
       " ('SRE', 'TSN', 0.009910465824867343),\n",
       " ('SRE', 'SHW', 0.0033092455196176043),\n",
       " ('RTN', 'CTL', 0.0029531142559958046),\n",
       " ('PGR', 'PCL', 0.00819122408147801),\n",
       " ('ADP', 'MRK', 3.9556633423325644e-05),\n",
       " ('MRK', 'DTE', 0.007401716940714658),\n",
       " ('MRK', 'NEE', 4.1466530344783144e-05),\n",
       " ('MRK', 'POM', 0.0015850781554905468),\n",
       " ('MRK', 'NU', 0.0004936831663291519),\n",
       " ('MRK', 'ECL', 0.005780075812881122),\n",
       " ('MRK', 'CVS', 2.730891129330275e-06),\n",
       " ('DTE', 'BF.B', 0.009461212202558756),\n",
       " ('DTE', 'POM', 0.006926944313811),\n",
       " ('NEE', 'CVS', 0.0026063471325554555),\n",
       " ('BF.B', 'CVS', 0.0024990184541346344),\n",
       " ('BF.B', 'PNW', 0.0074870973040972785),\n",
       " ('BF.B', 'CMS', 0.007114109406687947),\n",
       " ('POM', 'CVS', 0.006233375819132867),\n",
       " ('PAYX', 'CTL', 0.008923741522055304),\n",
       " ('NU', 'ECL', 0.001970741878931569),\n",
       " ('NU', 'SHW', 0.001524163024244115),\n",
       " ('NU', 'CVS', 9.954283278683585e-05),\n",
       " ('ECL', 'CVS', 0.002255540477923542),\n",
       " ('PNW', 'CMS', 0.008877933774417961)]"
      ]
     },
     "execution_count": 18,
     "metadata": {},
     "output_type": "execute_result"
    }
   ],
   "source": [
    "symbols = [s for s in vsm.neighbors('PFE',VSM).head(30).index]\n",
    "df = get_data(symbols,dates1)\n",
    "df.dropna(axis=0,inplace=True)\n",
    "print(len(coint(df)))\n",
    "coint(df)"
   ]
  },
  {
   "cell_type": "markdown",
   "id": "0ee976e1",
   "metadata": {},
   "source": [
    "## Final notes\n",
    "\n",
    "### Different Time Scales\n",
    "I think the VSM should be flexible with time frames. It seems like it could work at 6 months, maybe even 3. As you give it less dates, it's like a smaller corpus so eventually it won't have a robust set of distributions. Adding in more embeddings would offset this. Having the full tensor VSM would help a lot too. I'd like to see what the true limit is. 1 month, 2 weeks, 5 days? \n",
    "\n",
    "\n",
    "longer timeframe -->larger corpus---> more observations---> probably more reliable. \n",
    "The catch is that it's more static, so old relationships that don't apply might show up in a VSM from the last 6 years.\n",
    " \n",
    "#### Positive PMI\n",
    "If you change pmi (the weighting) so it doesn't send negative values to zero and takes the absolute value instead, it will list *related* stocks. Things that have unusually low co-occurances will also show up now. \n",
    "\n",
    "The stock CMAT shows up as 2nd in ORCLS's nearest neighbor with Positive PMI. You can see how they're kind of he opposite of each other in terms of returns.  I'm not sure how useful it will be."
   ]
  },
  {
   "cell_type": "code",
   "execution_count": 108,
   "id": "a9871a55",
   "metadata": {
    "ExecuteTime": {
     "end_time": "2022-05-11T08:28:14.467048Z",
     "start_time": "2022-05-11T08:28:13.970920Z"
    },
    "scrolled": true
   },
   "outputs": [
    {
     "data": {
      "text/plain": [
       "<AxesSubplot:>"
      ]
     },
     "execution_count": 108,
     "metadata": {},
     "output_type": "execute_result"
    },
    {
     "data": {
      "image/png": "[encoded data removed]",
      "text/plain": [
       "<Figure size 432x288 with 1 Axes>"
      ]
     },
     "metadata": {
      "needs_background": "light"
     },
     "output_type": "display_data"
    }
   ],
   "source": [
    "df = chants.get_data(['ORCL','CTAS'],dates1)\n",
    "df.dropna(axis=0,inplace=True)\n",
    "df.drop('SPY',inplace=True,axis=1)\n",
    "((df/df.iloc[0,:])-1).plot()"
   ]
  },
  {
   "cell_type": "code",
   "execution_count": 285,
   "id": "73edab0d",
   "metadata": {
    "ExecuteTime": {
     "end_time": "2022-05-11T10:29:40.142749Z",
     "start_time": "2022-05-11T10:29:40.096210Z"
    }
   },
   "outputs": [
    {
     "data": {
      "text/plain": [
       "[]"
      ]
     },
     "execution_count": 285,
     "metadata": {},
     "output_type": "execute_result"
    }
   ],
   "source": [
    "df = get_data(['ORCL','CTAS'],dates1)\n",
    "df.dropna(axis=0,inplace=True)\n",
    "coint(df) # Nope!"
   ]
  }
 ],
 "metadata": {
  "kernelspec": {
   "display_name": "Python 3 (ipykernel)",
   "language": "python",
   "name": "python3"
  },
  "language_info": {
   "codemirror_mode": {
    "name": "ipython",
    "version": 3
   },
   "file_extension": ".py",
   "mimetype": "text/x-python",
   "name": "python",
   "nbconvert_exporter": "python",
   "pygments_lexer": "ipython3",
   "version": "3.8.12"
  }
 },
 "nbformat": 4,
 "nbformat_minor": 5
}
