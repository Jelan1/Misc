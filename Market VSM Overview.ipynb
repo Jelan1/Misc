{
 "cells": [
  {
   "cell_type": "code",
   "execution_count": 1,
   "id": "96e2400a",
   "metadata": {
    "ExecuteTime": {
     "end_time": "2022-05-12T07:33:23.510696Z",
     "start_time": "2022-05-12T07:32:58.275903Z"
    }
   },
   "outputs": [],
   "source": [
    "import pandas as pd # imports\n",
    "import chants\n",
    "import numpy as np\n",
    "from numpy import array\n",
    "import datetime\n",
    "import scipy\n",
    "import os\n",
    "import vsm\n",
    "import chants\n",
    "import matplotlib.pyplot as plt\n",
    "\n",
    "Language_VSM = pd.read_csv('pmi_retro.csv',index_col=0)"
   ]
  },
  {
   "cell_type": "code",
   "execution_count": 2,
   "id": "577c6e40",
   "metadata": {
    "ExecuteTime": {
     "end_time": "2022-05-12T07:33:38.137010Z",
     "start_time": "2022-05-12T07:33:23.510696Z"
    }
   },
   "outputs": [
    {
     "ename": "ValueError",
     "evalue": "unsupported pickle protocol: 5",
     "output_type": "error",
     "traceback": [
      "\u001b[1;31m---------------------------------------------------------------------------\u001b[0m",
      "\u001b[1;31mValueError\u001b[0m                                Traceback (most recent call last)",
      "\u001b[1;32m~\\AppData\\Local\\Temp/ipykernel_17052/3341879082.py\u001b[0m in \u001b[0;36m<module>\u001b[1;34m\u001b[0m\n\u001b[0;32m      9\u001b[0m \u001b[0mhistorical_returns\u001b[0m\u001b[1;33m.\u001b[0m\u001b[0mdropna\u001b[0m\u001b[1;33m(\u001b[0m\u001b[0maxis\u001b[0m\u001b[1;33m=\u001b[0m\u001b[1;36m0\u001b[0m\u001b[1;33m,\u001b[0m\u001b[0minplace\u001b[0m\u001b[1;33m=\u001b[0m\u001b[1;32mTrue\u001b[0m\u001b[1;33m)\u001b[0m\u001b[1;33m\u001b[0m\u001b[1;33m\u001b[0m\u001b[0m\n\u001b[0;32m     10\u001b[0m \u001b[1;33m\u001b[0m\u001b[0m\n\u001b[1;32m---> 11\u001b[1;33m \u001b[0mB\u001b[0m \u001b[1;33m=\u001b[0m \u001b[0mpd\u001b[0m\u001b[1;33m.\u001b[0m\u001b[0mread_pickle\u001b[0m\u001b[1;33m(\u001b[0m\u001b[1;34m'test3'\u001b[0m\u001b[1;33m)\u001b[0m\u001b[1;33m\u001b[0m\u001b[1;33m\u001b[0m\u001b[0m\n\u001b[0m\u001b[0;32m     12\u001b[0m \u001b[0mdf2\u001b[0m \u001b[1;33m=\u001b[0m \u001b[0mpd\u001b[0m\u001b[1;33m.\u001b[0m\u001b[0mread_pickle\u001b[0m\u001b[1;33m(\u001b[0m\u001b[1;34m'holy'\u001b[0m\u001b[1;33m)\u001b[0m\u001b[1;33m\u001b[0m\u001b[1;33m\u001b[0m\u001b[0m\n\u001b[0;32m     13\u001b[0m \u001b[1;32mfor\u001b[0m \u001b[0mcol\u001b[0m \u001b[1;32min\u001b[0m \u001b[0mCV\u001b[0m\u001b[1;33m:\u001b[0m\u001b[1;33m\u001b[0m\u001b[1;33m\u001b[0m\u001b[0m\n",
      "\u001b[1;32mc:\\users\\acers\\appdata\\local\\programs\\python\\python37\\lib\\site-packages\\pandas\\io\\pickle.py\u001b[0m in \u001b[0;36mread_pickle\u001b[1;34m(filepath_or_buffer, compression, storage_options)\u001b[0m\n\u001b[0;32m    215\u001b[0m                     \u001b[1;31m# RawIOBase, BufferedIOBase, TextIOBase, TextIOWrapper, mmap]\";\u001b[0m\u001b[1;33m\u001b[0m\u001b[1;33m\u001b[0m\u001b[1;33m\u001b[0m\u001b[0m\n\u001b[0;32m    216\u001b[0m                     \u001b[1;31m# expected \"IO[bytes]\"\u001b[0m\u001b[1;33m\u001b[0m\u001b[1;33m\u001b[0m\u001b[1;33m\u001b[0m\u001b[0m\n\u001b[1;32m--> 217\u001b[1;33m                     \u001b[1;32mreturn\u001b[0m \u001b[0mpickle\u001b[0m\u001b[1;33m.\u001b[0m\u001b[0mload\u001b[0m\u001b[1;33m(\u001b[0m\u001b[0mhandles\u001b[0m\u001b[1;33m.\u001b[0m\u001b[0mhandle\u001b[0m\u001b[1;33m)\u001b[0m  \u001b[1;31m# type: ignore[arg-type]\u001b[0m\u001b[1;33m\u001b[0m\u001b[1;33m\u001b[0m\u001b[0m\n\u001b[0m\u001b[0;32m    218\u001b[0m             \u001b[1;32mexcept\u001b[0m \u001b[0mexcs_to_catch\u001b[0m\u001b[1;33m:\u001b[0m\u001b[1;33m\u001b[0m\u001b[1;33m\u001b[0m\u001b[0m\n\u001b[0;32m    219\u001b[0m                 \u001b[1;31m# e.g.\u001b[0m\u001b[1;33m\u001b[0m\u001b[1;33m\u001b[0m\u001b[1;33m\u001b[0m\u001b[0m\n",
      "\u001b[1;31mValueError\u001b[0m: unsupported pickle protocol: 5"
     ]
    }
   ],
   "source": [
    "start = '2011-01-10' # this chunk is not relevant code for now\n",
    "end = '2011-12-29'\n",
    "dates = pd.date_range(start,end)\n",
    "spy = chants.get_data(['SPY'],dates)\n",
    "spy.index\n",
    "dates1 = [date for date in dates if date in spy.index]\n",
    "symbols = pd.read_csv('MarketVSM_prototype',index_col=0).index\n",
    "historical_returns = chants.get_data(symbols,dates1)\n",
    "historical_returns.dropna(axis=0,inplace=True)\n",
    "\n",
    "B = pd.read_pickle('test3')\n",
    "df2 = pd.read_pickle('holy')\n",
    "for col in CV:\n",
    "    if B[col][0][0] * 0 != 0.0:\n",
    "        B.drop(col, inplace=True, axis=1)\n",
    "context_sim_vecs = df2.T\n",
    "context_sim_vecs.columns = B.index"
   ]
  },
  {
   "cell_type": "markdown",
   "id": "b1c203cd",
   "metadata": {},
   "source": [
    "### Initial Data\n",
    " There are 575 stocks in this dataset and it's quite dirty because I read all the files in a folder that included real stocks and toy stocks (FAKE1 for example). I have 12 years in total but I only chose 1 year for this VSM. Any range of dates can easily be accepted, but as of now using 4 or 5 years will probably take a few hours.\n",
    " \n",
    "I started with historical returns."
   ]
  },
  {
   "cell_type": "code",
   "execution_count": null,
   "id": "0b7020fa",
   "metadata": {
    "ExecuteTime": {
     "end_time": "2022-05-12T07:33:38.137010Z",
     "start_time": "2022-05-12T07:33:38.137010Z"
    },
    "scrolled": true
   },
   "outputs": [],
   "source": [
    "historical_returns.iloc[:20;:]"
   ]
  },
  {
   "cell_type": "markdown",
   "id": "5a4d2d6f",
   "metadata": {},
   "source": [
    "### Matrix B\n",
    "This was probably the hardest part to code and it's pretty hacky. I'm skipping the code and reading in the context window dataframe, B, it returns. I go in more detail below."
   ]
  },
  {
   "cell_type": "code",
   "execution_count": null,
   "id": "bbca88af",
   "metadata": {
    "ExecuteTime": {
     "end_time": "2022-05-12T07:33:38.145012Z",
     "start_time": "2022-05-12T07:33:38.145012Z"
    }
   },
   "outputs": [],
   "source": [
    "B.T.head(10)"
   ]
  },
  {
   "cell_type": "markdown",
   "id": "24d9013b",
   "metadata": {},
   "source": [
    "#### Context Window\n",
    "The window length for this one is 12. I have a version that is length 4 as well. Easily changing window lengths is not possible for now since I hardcoded each window. I know it would make more sense to have the windows be like   \n",
    "|12_..._4__3__2__1__|**self**                               \n",
    "or the other way around (whichever is like rolling mean)\n",
    "\n",
    "but when I made this I was more familiar with the language style of basing the window around a center word so it's instead\n",
    "\n",
    "|-6..._-2__-1__center__1__2...6|\n",
    "\n",
    "#### Visualizing a context window for one stock, eg one iteration of the window scan\n",
    "The top 6 values in the printed array are for the returns (relative to the center date) from the 6 trading dates before the 2011-01-10. The center date is the newline split and then you have the returns from the 6 dates ahead. This would be much easier to imagine if the window was not centered style since it would pretty much be a mini returns plot. A bit confusing but you can get the spirit.\n"
   ]
  },
  {
   "cell_type": "code",
   "execution_count": null,
   "id": "6ea5cdb8",
   "metadata": {
    "ExecuteTime": {
     "end_time": "2022-05-12T07:33:38.145012Z",
     "start_time": "2022-05-12T07:33:38.145012Z"
    },
    "scrolled": false
   },
   "outputs": [],
   "source": [
    "print(B['AAPL']['2011-01-10'])"
   ]
  },
  {
   "cell_type": "markdown",
   "id": "4d68da1e",
   "metadata": {},
   "source": [
    "#### Context Windows as Vectors\n",
    "I'm glossing over what different shapes mean since that's more connected to how you define the window. If you imagine the center date in \n",
    "```\n",
    "[1.03371025 1.03371025 1.03371025 1.02531798 1.02615107 1.01885383\n",
    " 1.00238109 0.99428488 0.99067403 0.99428488 1.00530676 1.01067014]\n",
    "```\n",
    "as 1, it looks like this. With 6 on the x-axis being the center date. You can see it's past and future returns."
   ]
  },
  {
   "cell_type": "code",
   "execution_count": null,
   "id": "a283bdad",
   "metadata": {
    "ExecuteTime": {
     "end_time": "2022-05-12T07:33:38.145012Z",
     "start_time": "2022-05-12T07:33:38.145012Z"
    }
   },
   "outputs": [],
   "source": [
    "pd.DataFrame([1.03371025,1.03371025,1.03371025,1.02531798,1.02615107,1.01885383,1.00238109,0.99428488,0.99067403,0.99428488,1.00530676,1.01067014]).plot()"
   ]
  },
  {
   "cell_type": "markdown",
   "id": "5d113a7d",
   "metadata": {},
   "source": [
    "This is one element in the Context Windows Matrix. Specifically, the first entry in AAPL. Let's look at a few stocks on the same day and get a sense their shapes of return movement. This time I won't insert the center date"
   ]
  },
  {
   "cell_type": "code",
   "execution_count": null,
   "id": "42cf479e",
   "metadata": {
    "ExecuteTime": {
     "end_time": "2022-05-12T07:33:38.152995Z",
     "start_time": "2022-05-12T07:33:38.152995Z"
    },
    "scrolled": true
   },
   "outputs": [],
   "source": [
    "pd.DataFrame(B['GE']['2011-08-23']).plot()\n",
    "pd.DataFrame(B['AAPL']['2011-08-23']).plot()\n",
    "pd.DataFrame(B['SPY']['2011-08-23']).plot()\n",
    "pd.DataFrame(B['AMD']['2011-08-23']).plot()"
   ]
  },
  {
   "cell_type": "markdown",
   "id": "59e8164b",
   "metadata": {
    "ExecuteTime": {
     "end_time": "2022-05-11T05:24:27.065650Z",
     "start_time": "2022-05-11T05:24:27.049627Z"
    }
   },
   "source": [
    "Hopefully this gives you a sense of what the Context Windows matrix, B contains"
   ]
  },
  {
   "cell_type": "code",
   "execution_count": null,
   "id": "84e04c17",
   "metadata": {
    "ExecuteTime": {
     "end_time": "2022-05-12T07:33:38.152995Z",
     "start_time": "2022-05-12T07:33:38.152995Z"
    }
   },
   "outputs": [],
   "source": [
    "B.T.head(10) # context window scan was on total timeframe which is why there are no blanks in the starting dates (it's a slice)"
   ]
  },
  {
   "cell_type": "markdown",
   "id": "479f05a2",
   "metadata": {},
   "source": [
    "If we're trying to make comparisons with the words vsm, this is like step 0--- imposing a sense of context and co-occurance on some initial dataset. \n",
    "\n",
    "#### What kind of Matrix is B?\n",
    "B is kind of like a term-document matrix. You can treat the stretch of returns for some timeframe as a corpus. It's a container of documents. And like normal containers, we can say a document is a page or a paragraph or five words... it's up to us to define the context. In this case, I defined it as 12 days. I'll skip over what it means to choose a large window or small window, as well as different scaling options. The big difference between traditional term-documents and this is sparsity. Here, we're guaranteed an entry for each term, so there's no sparsity at all. So c1 (2011-01-01) contains an entry for each term (stock) and instead of a scalar count, the entry is a **vector** whose dimension is our window length. "
   ]
  },
  {
   "attachments": {
    "Term-frequency-matrix.png": {
     "image/png": "[encoded data removed]"
    }
   },
   "cell_type": "markdown",
   "id": "16728906",
   "metadata": {},
   "source": [
    "![Term-frequency-matrix.png](attachment:Term-frequency-matrix.png)"
   ]
  },
  {
   "cell_type": "code",
   "execution_count": null,
   "id": "57d4a229",
   "metadata": {
    "ExecuteTime": {
     "end_time": "2022-05-12T07:33:38.152995Z",
     "start_time": "2022-05-12T07:33:38.152995Z"
    },
    "scrolled": true
   },
   "outputs": [],
   "source": [
    "B.T.head()"
   ]
  },
  {
   "cell_type": "markdown",
   "id": "4fc674f7",
   "metadata": {},
   "source": [
    "## Similarity Vectors\n",
    "Imagine you take perspective of stock 'A', on the 2011-01-10 (day1). Let's look at it's shape and the shapes of AA and AAPL on day1."
   ]
  },
  {
   "cell_type": "code",
   "execution_count": null,
   "id": "d5f44d8d",
   "metadata": {
    "ExecuteTime": {
     "end_time": "2022-05-12T07:33:38.160998Z",
     "start_time": "2022-05-12T07:33:38.160998Z"
    },
    "scrolled": true
   },
   "outputs": [],
   "source": [
    "pd.DataFrame(B['A']['2011-08-23']).plot()\n",
    "pd.DataFrame(B['AA']['2011-08-23']).plot()\n",
    "pd.DataFrame(B['AAPL']['2011-08-23']).plot()"
   ]
  },
  {
   "cell_type": "markdown",
   "id": "945db379",
   "metadata": {
    "ExecuteTime": {
     "end_time": "2022-05-11T05:40:40.923682Z",
     "start_time": "2022-05-11T05:40:40.907914Z"
    }
   },
   "source": [
    "If you took the dot product between "
   ]
  },
  {
   "cell_type": "code",
   "execution_count": null,
   "id": "8771d4b4",
   "metadata": {
    "ExecuteTime": {
     "end_time": "2022-05-12T07:33:38.160998Z",
     "start_time": "2022-05-12T07:33:38.160998Z"
    }
   },
   "outputs": [],
   "source": [
    "print(pd.DataFrame(CV['A']['2011-08-23']))"
   ]
  },
  {
   "cell_type": "markdown",
   "id": "a50a4196",
   "metadata": {},
   "source": [
    "and"
   ]
  },
  {
   "cell_type": "code",
   "execution_count": null,
   "id": "3252657f",
   "metadata": {
    "ExecuteTime": {
     "end_time": "2022-05-12T07:33:38.160998Z",
     "start_time": "2022-05-12T07:33:38.160998Z"
    },
    "scrolled": true
   },
   "outputs": [],
   "source": [
    "print(pd.DataFrame(CV['AA']['2011-08-23']))\n",
    "print(pd.DataFrame(CV['AAPL']['2011-08-23']))"
   ]
  },
  {
   "cell_type": "markdown",
   "id": "282ca111",
   "metadata": {},
   "source": [
    "for one day, but along every date, you'd get"
   ]
  },
  {
   "cell_type": "code",
   "execution_count": null,
   "id": "4a0d926a",
   "metadata": {
    "ExecuteTime": {
     "end_time": "2022-05-12T07:33:38.168999Z",
     "start_time": "2022-05-12T07:33:38.168999Z"
    }
   },
   "outputs": [],
   "source": [
    "context_sim_vecs.iloc[:3,:1]"
   ]
  },
  {
   "cell_type": "markdown",
   "id": "69d05aab",
   "metadata": {
    "ExecuteTime": {
     "end_time": "2022-05-11T05:41:29.415500Z",
     "start_time": "2022-05-11T05:41:29.200238Z"
    }
   },
   "source": [
    "Doing so for everyday, you'd get"
   ]
  },
  {
   "cell_type": "code",
   "execution_count": null,
   "id": "78aee806",
   "metadata": {
    "ExecuteTime": {
     "end_time": "2022-05-12T07:33:38.168999Z",
     "start_time": "2022-05-12T07:33:38.168999Z"
    }
   },
   "outputs": [],
   "source": [
    "context_sim_vecs.iloc[:3,:].T.plot()\n",
    "context_sim_vecs.iloc[:3,:]"
   ]
  },
  {
   "cell_type": "code",
   "execution_count": null,
   "id": "2a1c1460",
   "metadata": {
    "ExecuteTime": {
     "end_time": "2022-05-12T07:33:38.168999Z",
     "start_time": "2022-05-12T07:33:38.168999Z"
    },
    "scrolled": true
   },
   "outputs": [],
   "source": [
    "C = context_sim_vecs\n",
    "C"
   ]
  },
  {
   "cell_type": "code",
   "execution_count": null,
   "id": "b3a0a256",
   "metadata": {
    "ExecuteTime": {
     "end_time": "2022-05-12T07:33:38.168999Z",
     "start_time": "2022-05-12T07:33:38.168999Z"
    },
    "scrolled": true
   },
   "outputs": [],
   "source": [
    "context_sim_vecs.T['KO'][\"KO\"].plot()\n",
    "context_sim_vecs.T['KO'][\"PEP\"].plot()\n",
    "context_sim_vecs.T['KO'][\"SPY\"].plot()\n",
    "#context_sim_vec\n",
    "# s.T['AA'][\"SPY\"].plot()\n",
    "#context_sim_vecs.T['AA'][\"AMD\"].plot()\n",
    "#context_sim_vecs.T['AA'][\"XOM\"].plot()"
   ]
  },
  {
   "cell_type": "markdown",
   "id": "3e77ab45",
   "metadata": {},
   "source": [
    "## Recovering Square Matrix\n",
    "From the similarity vectors, C, I'll get the final matrix which will be square and term-term."
   ]
  },
  {
   "cell_type": "markdown",
   "id": "003e5d15",
   "metadata": {},
   "source": [
    "I used pandas multi-indexer to slice C into 575 groups. Each matrix represents a stock and it contains the dot products between all stocks and itself.\n",
    " \n",
    " I've shown a messy graph for stock 'A'. Notice it's all relative to 'A', which is a straight line at 1. Each stock has this, with itself being the vector of reference."
   ]
  },
  {
   "cell_type": "code",
   "execution_count": null,
   "id": "2d9729bc",
   "metadata": {
    "ExecuteTime": {
     "end_time": "2022-05-12T07:33:38.177000Z",
     "start_time": "2022-05-12T07:33:38.177000Z"
    }
   },
   "outputs": [],
   "source": [
    "fig, ax = plt.subplots()\n",
    "ax.plot(C.T['A'])\n",
    "\n",
    "ax.plot(label='')\n",
    "\n",
    "ax.legend()\n",
    "\n",
    "plt.show() "
   ]
  },
  {
   "cell_type": "code",
   "execution_count": null,
   "id": "23521ca7",
   "metadata": {
    "ExecuteTime": {
     "end_time": "2022-05-12T07:33:38.177000Z",
     "start_time": "2022-05-12T07:33:38.177000Z"
    },
    "scrolled": true
   },
   "outputs": [],
   "source": [
    "C.T['A']"
   ]
  },
  {
   "cell_type": "code",
   "execution_count": null,
   "id": "9b1df5be",
   "metadata": {
    "ExecuteTime": {
     "end_time": "2022-05-12T07:33:38.177000Z",
     "start_time": "2022-05-12T07:33:38.177000Z"
    }
   },
   "outputs": [],
   "source": [
    "C.T['AA']"
   ]
  },
  {
   "cell_type": "code",
   "execution_count": null,
   "id": "0613b2c4",
   "metadata": {
    "ExecuteTime": {
     "end_time": "2022-05-12T07:33:38.184999Z",
     "start_time": "2022-05-12T07:33:38.184999Z"
    },
    "scrolled": true
   },
   "outputs": [],
   "source": [
    "C.T['ZMH'] # 1's along the last column"
   ]
  },
  {
   "cell_type": "markdown",
   "id": "aaf5b65c",
   "metadata": {},
   "source": [
    "Let's look at a word embedding from the language VSM. Notice it's a vector and the VSM itself is a matrix"
   ]
  },
  {
   "cell_type": "code",
   "execution_count": null,
   "id": "94d30294",
   "metadata": {
    "ExecuteTime": {
     "end_time": "2022-05-12T07:33:38.184999Z",
     "start_time": "2022-05-12T07:33:38.184999Z"
    },
    "scrolled": false
   },
   "outputs": [],
   "source": [
    "pd.DataFrame(Language_VSM['youth'])"
   ]
  },
  {
   "cell_type": "code",
   "execution_count": null,
   "id": "756432bf",
   "metadata": {
    "ExecuteTime": {
     "end_time": "2022-05-12T07:33:38.184999Z",
     "start_time": "2022-05-12T07:33:38.184999Z"
    }
   },
   "outputs": [],
   "source": [
    "Language_VSM"
   ]
  },
  {
   "cell_type": "markdown",
   "id": "9cf559eb",
   "metadata": {},
   "source": [
    "Returning to the current situaiton, for each matrix in C, we take C[stock] X C[stock] transpose. \n",
    "This is leaves us with a square, 575 X 575 term-term matrix for *each* stock."
   ]
  },
  {
   "cell_type": "code",
   "execution_count": null,
   "id": "2c36fbe4",
   "metadata": {
    "ExecuteTime": {
     "end_time": "2022-05-12T07:33:38.200318Z",
     "start_time": "2022-05-12T07:33:38.200318Z"
    },
    "scrolled": true
   },
   "outputs": [],
   "source": [
    "def magic(context_sim_vecs):\n",
    "    Tensor = {}\n",
    "    counter = 0\n",
    "    for symbol in context_sim_vecs.T['A'].columns:\n",
    "        df5 = context_sim_vecs.T[symbol]\n",
    "        X = (np.matmul(df5.T,df5)/246).fillna(0)\n",
    "        #X.replace([np.inf, -np.inf], 1, inplace=True)\n",
    "        Tensor[symbol] = X\n",
    "        counter+=1\n",
    "    return Tensor\n",
    "        # WHY IS IT SO UNSTABLE.\n",
    "Tensor = magic(context_sim_vecs)"
   ]
  },
  {
   "cell_type": "code",
   "execution_count": null,
   "id": "4716f2b0",
   "metadata": {
    "ExecuteTime": {
     "end_time": "2022-05-12T07:33:38.202379Z",
     "start_time": "2022-05-12T07:33:38.202379Z"
    }
   },
   "outputs": [],
   "source": [
    "Tensor; # it's a dictionary of matrices"
   ]
  },
  {
   "cell_type": "markdown",
   "id": "7e4b5faa",
   "metadata": {},
   "source": [
    "It gets murky here for sure, but I'm pretty sure since the underlying values of this market VSM are vectors and not scalars, there's an extra axis. Which means the market VSM is actually a *tensor* and not a matrix. Therefore the embeddings themselves are *matrices* and not vectors. \n",
    "\n",
    "Notice the diagonal of 1's that appears in the Tensor, that's a good sign."
   ]
  },
  {
   "cell_type": "code",
   "execution_count": null,
   "id": "00514df7",
   "metadata": {
    "ExecuteTime": {
     "end_time": "2022-05-12T07:33:38.204487Z",
     "start_time": "2022-05-12T07:33:38.204487Z"
    },
    "scrolled": true
   },
   "outputs": [],
   "source": [
    "Tensor['A']"
   ]
  },
  {
   "cell_type": "code",
   "execution_count": null,
   "id": "18a59031",
   "metadata": {
    "ExecuteTime": {
     "end_time": "2022-05-12T07:33:38.204487Z",
     "start_time": "2022-05-12T07:33:38.204487Z"
    },
    "scrolled": true
   },
   "outputs": [],
   "source": [
    "Tensor['AA']"
   ]
  },
  {
   "cell_type": "code",
   "execution_count": null,
   "id": "e3cc6865",
   "metadata": {
    "ExecuteTime": {
     "end_time": "2022-05-12T07:33:38.204487Z",
     "start_time": "2022-05-12T07:33:38.204487Z"
    },
    "scrolled": true
   },
   "outputs": [],
   "source": [
    "Tensor['AAPL']"
   ]
  },
  {
   "cell_type": "markdown",
   "id": "537f2dcf",
   "metadata": {},
   "source": [
    "### Final Output\n",
    "Okay, so all of the operations done in vsm.py assume a 2d matrix VSM. They're simple functions, like taking the distance between a pair of vectors (pretty much vsm.neighbors). All of these operations are equally definable for matrices and I know the math for it but I don't know to code it (I think you need pytorch for tensors). \n",
    "\n",
    "So to make a prototype, I made a matrix from the Tensor by selecting one vector from the stock embeddings (which are matrices) that represented a direct measurement. I'll just show what I did, since it's a bit arbitrary and confusing."
   ]
  },
  {
   "cell_type": "code",
   "execution_count": null,
   "id": "012957fc",
   "metadata": {
    "ExecuteTime": {
     "end_time": "2022-05-12T07:33:38.209496Z",
     "start_time": "2022-05-12T07:33:38.209496Z"
    }
   },
   "outputs": [],
   "source": [
    "Tensor['A']"
   ]
  },
  {
   "cell_type": "code",
   "execution_count": null,
   "id": "75cfdc92",
   "metadata": {
    "ExecuteTime": {
     "end_time": "2022-05-12T07:33:38.209496Z",
     "start_time": "2022-05-12T07:33:38.209496Z"
    },
    "scrolled": true
   },
   "outputs": [],
   "source": [
    "A = Tensor['A'].T['A']\n",
    "pd.DataFrame(A)"
   ]
  },
  {
   "cell_type": "code",
   "execution_count": null,
   "id": "65bfb4e1",
   "metadata": {
    "ExecuteTime": {
     "end_time": "2022-05-12T07:33:38.217507Z",
     "start_time": "2022-05-12T07:33:38.217507Z"
    },
    "scrolled": true
   },
   "outputs": [],
   "source": [
    "AA = Tensor['AA'].T['AA']\n",
    "pd.DataFrame(AA)"
   ]
  },
  {
   "cell_type": "code",
   "execution_count": null,
   "id": "a3cbc5fd",
   "metadata": {
    "ExecuteTime": {
     "end_time": "2022-05-12T07:33:38.217507Z",
     "start_time": "2022-05-12T07:33:38.217507Z"
    },
    "scrolled": true
   },
   "outputs": [],
   "source": [
    "# continuing for rest of stocks\n",
    "open = {}\n",
    "for matrix in Tensor:\n",
    "    vec = Tensor[matrix].T[matrix]\n",
    "    open[matrix] = vec\n",
    "vsm2 = pd.DataFrame(open)\n",
    "vsm2.index = vsm2.columns\n",
    "vsm2"
   ]
  },
  {
   "cell_type": "markdown",
   "id": "1e4da603",
   "metadata": {},
   "source": [
    "This is nearly the Market VSM you saw in the 1st notebook. There's no weighting yet. I amplify co-occurances that are unusually high by applying an observed/expected type of thing called pointwise mutual information (pmi), and that's the final matrix. I'll go into more detail on matrix re-weighting some other time."
   ]
  },
  {
   "cell_type": "code",
   "execution_count": null,
   "id": "5fa7d16a",
   "metadata": {
    "ExecuteTime": {
     "end_time": "2022-05-12T07:33:38.217507Z",
     "start_time": "2022-05-12T07:33:38.217507Z"
    }
   },
   "outputs": [],
   "source": [
    "Market_VSM = vsm.pmi(vsm2)\n",
    "Market_VSM"
   ]
  },
  {
   "cell_type": "markdown",
   "id": "b04049d7",
   "metadata": {},
   "source": [
    "Even though there's a huge loss of information from Tensor to matrix, the co-integration results using this vsm are still quite interesting. But that's pretty much how you go from raw daily returns to the vsm. "
   ]
  }
 ],
 "metadata": {
  "kernelspec": {
   "display_name": "Python 3 (ipykernel)",
   "language": "python",
   "name": "python3"
  },
  "language_info": {
   "codemirror_mode": {
    "name": "ipython",
    "version": 3
   },
   "file_extension": ".py",
   "mimetype": "text/x-python",
   "name": "python",
   "nbconvert_exporter": "python",
   "pygments_lexer": "ipython3",
   "version": "3.7.4"
  }
 },
 "nbformat": 4,
 "nbformat_minor": 5
}
